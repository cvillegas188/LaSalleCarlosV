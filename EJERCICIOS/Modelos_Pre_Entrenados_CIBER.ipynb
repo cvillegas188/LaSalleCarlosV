{
  "nbformat": 4,
  "nbformat_minor": 0,
  "metadata": {
    "colab": {
      "provenance": [],
      "gpuType": "T4",
      "mount_file_id": "1A30GELdBd45kLDiCZpQOcdXUvHFynkPw",
      "authorship_tag": "ABX9TyPFcmfcFddaP+oL10Qd6unz",
      "include_colab_link": true
    },
    "kernelspec": {
      "name": "python3",
      "display_name": "Python 3"
    },
    "language_info": {
      "name": "python"
    },
    "accelerator": "GPU"
  },
  "cells": [
    {
      "cell_type": "markdown",
      "metadata": {
        "id": "view-in-github",
        "colab_type": "text"
      },
      "source": [
        "<a href=\"https://colab.research.google.com/github/cvillegas188/LaSalleCarlosV/blob/main/EJERCICIOS/Modelos_Pre_Entrenados_CIBER.ipynb\" target=\"_parent\"><img src=\"https://colab.research.google.com/assets/colab-badge.svg\" alt=\"Open In Colab\"/></a>"
      ]
    },
    {
      "cell_type": "code",
      "execution_count": 1,
      "metadata": {
        "id": "b1IpvzB-lYh2"
      },
      "outputs": [],
      "source": [
        "import numpy as np\n",
        "from tensorflow.keras.preprocessing import image"
      ]
    },
    {
      "cell_type": "code",
      "source": [
        "#VGG16\n",
        "from tensorflow.keras.applications.vgg16 import VGG16, preprocess_input, decode_predictions\n",
        "model = VGG16(weights='imagenet')\n",
        "model_name ='VGG16'\n",
        "\n",
        "img_path = '/content/drive/MyDrive/Inteligencia-Computacional/perfil.jpg'\n",
        "img = image.load_img(img_path, target_size=(224,224))\n",
        "img_array = image.img_to_array(img)\n",
        "img_array_expanded_dims = np.expand_dims(img_array, axis=0)\n",
        "img_preprocessed = preprocess_input(img_array_expanded_dims)"
      ],
      "metadata": {
        "id": "iCAAjt3qm000"
      },
      "execution_count": 19,
      "outputs": []
    },
    {
      "cell_type": "code",
      "source": [
        "#ResNet50\n",
        "from tensorflow.keras.applications.resnet50 import ResNet50, preprocess_input, decode_predictions\n",
        "model = ResNet50(weights='imagenet')\n",
        "model_name ='ResNet50'\n",
        "\n",
        "img_path = '/content/drive/MyDrive/Inteligencia-Computacional/perfil.jpg'\n",
        "img = image.load_img(img_path, target_size=(224, 224))\n",
        "img_array = image.img_to_array(img)\n",
        "img_array_expanded_dims = np.expand_dims(img_array, axis=0)\n",
        "img_preprocessed = preprocess_input(img_array_expanded_dims)"
      ],
      "metadata": {
        "id": "jEcgw2zHmLn9"
      },
      "execution_count": 22,
      "outputs": []
    },
    {
      "cell_type": "code",
      "source": [
        "#Inception V3\n",
        "from tensorflow.keras.applications.inception_v3 import InceptionV3, preprocess_input, decode_predictions\n",
        "model = InceptionV3(weights='imagenet')\n",
        "model_name ='Inception V3'\n",
        "\n",
        "img_path = '/content/drive/MyDrive/Inteligencia-Computacional/perfil.jpg'\n",
        "img = image.load_img(img_path, target_size=(299, 299))\n",
        "img_array = image.img_to_array(img)\n",
        "img_array_expanded_dims = np.expand_dims(img_array, axis=0)\n",
        "img_preprocessed = preprocess_input(img_array_expanded_dims)"
      ],
      "metadata": {
        "id": "O4gxOQK1ng83"
      },
      "execution_count": 25,
      "outputs": []
    },
    {
      "cell_type": "code",
      "source": [
        "#Xception\n",
        "from tensorflow.keras.applications.xception import Xception, preprocess_input, decode_predictions\n",
        "model = Xception(weights='imagenet')\n",
        "model_name ='Xception'\n",
        "\n",
        "img_path = '/content/drive/MyDrive/Inteligencia-Computacional/perfil.jpg'\n",
        "img = image.load_img(img_path, target_size=(299, 299))\n",
        "img_array = image.img_to_array(img)\n",
        "img_array_expanded_dims = np.expand_dims(img_array, axis=0)\n",
        "img_preprocessed = preprocess_input(img_array_expanded_dims)"
      ],
      "metadata": {
        "id": "leZt8ptXoDuf"
      },
      "execution_count": 28,
      "outputs": []
    },
    {
      "cell_type": "code",
      "source": [
        "#MobileNet\n",
        "from tensorflow.keras.applications.mobilenet import MobileNet, preprocess_input, decode_predictions\n",
        "model = MobileNet(weights='imagenet')\n",
        "model_name ='MobileNet'\n",
        "\n",
        "img_path = '/content/drive/MyDrive/Inteligencia-Computacional/perfil.jpg'\n",
        "img = image.load_img(img_path, target_size=(224, 224))\n",
        "img_array = image.img_to_array(img)\n",
        "img_array_expanded_dims = np.expand_dims(img_array, axis=0)\n",
        "img_preprocessed = preprocess_input(img_array_expanded_dims)"
      ],
      "metadata": {
        "colab": {
          "base_uri": "https://localhost:8080/"
        },
        "id": "TaQTIAD8pFyL",
        "outputId": "ffdb3df0-df0f-4f02-87d4-dce40dfd5ac5"
      },
      "execution_count": 31,
      "outputs": [
        {
          "output_type": "stream",
          "name": "stdout",
          "text": [
            "Downloading data from https://storage.googleapis.com/tensorflow/keras-applications/mobilenet/mobilenet_1_0_224_tf.h5\n",
            "17225924/17225924 [==============================] - 0s 0us/step\n"
          ]
        }
      ]
    },
    {
      "cell_type": "code",
      "source": [
        "#EfficientNetB0\n",
        "from tensorflow.keras.applications.efficientnet import EfficientNetB0, preprocess_input, decode_predictions\n",
        "model = EfficientNetB0(weights='imagenet')\n",
        "model_name ='EfficientNetB0'\n",
        "\n",
        "img_path = '/content/drive/MyDrive/Inteligencia-Computacional/perfil.jpg'\n",
        "img = image.load_img(img_path, target_size=(224, 224))\n",
        "img_array = image.img_to_array(img)\n",
        "img_array_expanded_dims = np.expand_dims(img_array, axis=0)\n",
        "img_preprocessed = preprocess_input(img_array_expanded_dims)"
      ],
      "metadata": {
        "colab": {
          "base_uri": "https://localhost:8080/"
        },
        "id": "X8O9n579pZ2t",
        "outputId": "fe8ef224-d183-45ed-ac8a-6a942af535ab"
      },
      "execution_count": 34,
      "outputs": [
        {
          "output_type": "stream",
          "name": "stdout",
          "text": [
            "Downloading data from https://storage.googleapis.com/keras-applications/efficientnetb0.h5\n",
            "21834768/21834768 [==============================] - 0s 0us/step\n"
          ]
        }
      ]
    },
    {
      "cell_type": "code",
      "source": [
        "#DenseNet121\n",
        "from tensorflow.keras.applications.densenet import DenseNet121, preprocess_input, decode_predictions\n",
        "model = DenseNet121(weights='imagenet')\n",
        "model_name ='DenseNet121'\n",
        "\n",
        "img_path = '/content/drive/MyDrive/Inteligencia-Computacional/perfil.jpg'\n",
        "img = image.load_img(img_path, target_size=(224, 224))\n",
        "img_array = image.img_to_array(img)\n",
        "img_array_expanded_dims = np.expand_dims(img_array, axis=0)\n",
        "img_preprocessed = preprocess_input(img_array_expanded_dims)"
      ],
      "metadata": {
        "colab": {
          "base_uri": "https://localhost:8080/"
        },
        "id": "gpzHzF0_pl3V",
        "outputId": "9f2ec3a4-ce50-45cf-d60c-928c83bf4441"
      },
      "execution_count": 37,
      "outputs": [
        {
          "output_type": "stream",
          "name": "stdout",
          "text": [
            "Downloading data from https://storage.googleapis.com/tensorflow/keras-applications/densenet/densenet121_weights_tf_dim_ordering_tf_kernels.h5\n",
            "33188688/33188688 [==============================] - 0s 0us/step\n"
          ]
        }
      ]
    },
    {
      "cell_type": "code",
      "source": [
        "predictions = model.predict(img_preprocessed)"
      ],
      "metadata": {
        "colab": {
          "base_uri": "https://localhost:8080/"
        },
        "id": "6FVhFlbqmbzO",
        "outputId": "c7c7ee18-a2c6-4d23-94d8-c34b9a54ff40"
      },
      "execution_count": 38,
      "outputs": [
        {
          "output_type": "stream",
          "name": "stdout",
          "text": [
            "1/1 [==============================] - 3s 3s/step\n"
          ]
        }
      ]
    },
    {
      "cell_type": "code",
      "source": [
        "results = decode_predictions(predictions, top=3)[0]\n",
        "print('Model: %s' % (model_name))\n",
        "for result in results:\n",
        "    print('%s: %.2f%%' % (result[1], result[2] * 100))"
      ],
      "metadata": {
        "colab": {
          "base_uri": "https://localhost:8080/"
        },
        "id": "6iAlnNDrmfAN",
        "outputId": "6caf5841-ea77-4ca5-8dda-0098cced0efd"
      },
      "execution_count": 39,
      "outputs": [
        {
          "output_type": "stream",
          "name": "stdout",
          "text": [
            "Model: DenseNet121\n",
            "Chihuahua: 97.57%\n",
            "toy_terrier: 0.83%\n",
            "Norwich_terrier: 0.31%\n"
          ]
        }
      ]
    },
    {
      "cell_type": "markdown",
      "source": [
        "# **Resultados:**\n",
        "\n",
        "VGG16\n",
        "*   0s\n",
        "*   94%\n",
        "\n",
        "ResNet50\n",
        "*   1s\n",
        "*   89.4%\n",
        "\n",
        "InceptionV3\n",
        "*   1s\n",
        "*   94.39%\n",
        "\n",
        "Xception\n",
        "*   1s\n",
        "*   88.41%\n",
        "\n",
        "MobileNetV2\n",
        "*   1s\n",
        "*   98.56%\n",
        "\n",
        "EfficientNetB0\n",
        "*   3s\n",
        "*   69.83%\n",
        "\n",
        "DenseNet121\n",
        "*   3s\n",
        "*   97.57%"
      ],
      "metadata": {
        "id": "v8kQA2k6p3vO"
      }
    }
  ]
}